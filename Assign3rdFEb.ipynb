{
 "cells": [
  {
   "cell_type": "code",
   "execution_count": 1,
   "id": "375588ca-b642-4bad-96b4-b8362965c1a4",
   "metadata": {},
   "outputs": [],
   "source": [
    "# Answer 1st :"
   ]
  },
  {
   "cell_type": "code",
   "execution_count": 5,
   "id": "812ce15b-ab28-4c11-ac1b-65771e124ee6",
   "metadata": {},
   "outputs": [],
   "source": [
    "numbers = range(26)"
   ]
  },
  {
   "cell_type": "code",
   "execution_count": 7,
   "id": "8c40881f-f7d9-4515-814b-764ef7c5f4d4",
   "metadata": {},
   "outputs": [
    {
     "name": "stdout",
     "output_type": "stream",
     "text": [
      "1\n",
      "3\n",
      "5\n",
      "7\n",
      "9\n",
      "11\n",
      "13\n",
      "15\n",
      "17\n",
      "19\n",
      "21\n",
      "23\n",
      "25\n"
     ]
    }
   ],
   "source": [
    "for number in numbers :\n",
    "    if number %2 != 0 :\n",
    "        print(number)"
   ]
  },
  {
   "cell_type": "code",
   "execution_count": 1,
   "id": "5d1d422e-a89e-48f3-8097-4fd3dd44f989",
   "metadata": {},
   "outputs": [],
   "source": [
    "# Answer 2th : we are passing *args and **kwargs as an argument in the myFun function."
   ]
  },
  {
   "cell_type": "code",
   "execution_count": 2,
   "id": "c7076b90-9855-4642-b228-9f0d4c9c5dbe",
   "metadata": {},
   "outputs": [
    {
     "name": "stdout",
     "output_type": "stream",
     "text": [
      "args:  ('geeks', 'for', 'geeks')\n",
      "kwargs:  {'first': 'Geeks', 'mid': 'for', 'last': 'Geeks'}\n"
     ]
    }
   ],
   "source": [
    "def myFun(*args, **kwargs):\n",
    "    print(\"args: \", args)\n",
    "    print(\"kwargs: \", kwargs)\n",
    "myFun('geeks', 'for', 'geeks', first=\"Geeks\", mid=\"for\", last=\"Geeks\")"
   ]
  },
  {
   "cell_type": "code",
   "execution_count": 9,
   "id": "0b58e951-82b6-4876-9086-ba63e068ba47",
   "metadata": {},
   "outputs": [],
   "source": [
    "# Answer 3rd : An iterator is an object that contains a countable number of values."
   ]
  },
  {
   "cell_type": "code",
   "execution_count": 5,
   "id": "ed542c84-4068-411b-98e7-92e039a9054f",
   "metadata": {},
   "outputs": [
    {
     "name": "stdout",
     "output_type": "stream",
     "text": [
      "[2, 4, 6, 8, 10]\n"
     ]
    }
   ],
   "source": [
    "my_list = [2,4,6,8,10,12,14,16,18,20]\n",
    "print(my_list[:5])"
   ]
  },
  {
   "cell_type": "code",
   "execution_count": 7,
   "id": "5b516c76-77d8-4b44-bc4d-32232f3579e5",
   "metadata": {},
   "outputs": [],
   "source": [
    "def printValues():\n",
    "\tl = [2,4,6,8,10,12,14,16,18,20]\n",
    "\tfor i in range(1,21):\n",
    "\t\tl.append(i**2)\n",
    "\tprint(l[:5])"
   ]
  },
  {
   "cell_type": "code",
   "execution_count": 19,
   "id": "ab49da96-2e37-4132-bd02-4bfb048a9d60",
   "metadata": {},
   "outputs": [],
   "source": [
    "# Ans 4th : Generator funtions are a special kind of function that return a lazy iterator called a generator iterator.\n",
    "# Yield : the yield in python controls the flow of a genertor function."
   ]
  },
  {
   "cell_type": "code",
   "execution_count": 22,
   "id": "ba9f688e-8525-4068-9855-6e808a6d561f",
   "metadata": {},
   "outputs": [],
   "source": [
    "def count_test(n) :\n",
    "    count = 1\n",
    "    while count <= n :\n",
    "        yield count\n",
    "        count = count +1"
   ]
  },
  {
   "cell_type": "code",
   "execution_count": null,
   "id": "b84ec590-e69a-42b6-90a8-a31591d8fd37",
   "metadata": {},
   "outputs": [],
   "source": [
    "n = count_test(5)"
   ]
  },
  {
   "cell_type": "code",
   "execution_count": 18,
   "id": "750db6e3-1e0a-4187-9025-1821eb4299ae",
   "metadata": {},
   "outputs": [
    {
     "name": "stdin",
     "output_type": "stream",
     "text": [
      "lowest value 1\n",
      "upper value 1000\n"
     ]
    },
    {
     "name": "stdout",
     "output_type": "stream",
     "text": [
      "The prime numbers in the range are:\n",
      "2\n",
      "3\n",
      "5\n",
      "7\n",
      "11\n",
      "13\n",
      "17\n",
      "19\n",
      "23\n",
      "29\n",
      "31\n",
      "37\n",
      "41\n",
      "43\n",
      "47\n",
      "53\n",
      "59\n",
      "61\n",
      "67\n",
      "71\n",
      "73\n",
      "79\n",
      "83\n",
      "89\n",
      "97\n",
      "101\n",
      "103\n",
      "107\n",
      "109\n",
      "113\n",
      "127\n",
      "131\n",
      "137\n",
      "139\n",
      "149\n",
      "151\n",
      "157\n",
      "163\n",
      "167\n",
      "173\n",
      "179\n",
      "181\n",
      "191\n",
      "193\n",
      "197\n",
      "199\n",
      "211\n",
      "223\n",
      "227\n",
      "229\n",
      "233\n",
      "239\n",
      "241\n",
      "251\n",
      "257\n",
      "263\n",
      "269\n",
      "271\n",
      "277\n",
      "281\n",
      "283\n",
      "293\n",
      "307\n",
      "311\n",
      "313\n",
      "317\n",
      "331\n",
      "337\n",
      "347\n",
      "349\n",
      "353\n",
      "359\n",
      "367\n",
      "373\n",
      "379\n",
      "383\n",
      "389\n",
      "397\n",
      "401\n",
      "409\n",
      "419\n",
      "421\n",
      "431\n",
      "433\n",
      "439\n",
      "443\n",
      "449\n",
      "457\n",
      "461\n",
      "463\n",
      "467\n",
      "479\n",
      "487\n",
      "491\n",
      "499\n",
      "503\n",
      "509\n",
      "521\n",
      "523\n",
      "541\n",
      "547\n",
      "557\n",
      "563\n",
      "569\n",
      "571\n",
      "577\n",
      "587\n",
      "593\n",
      "599\n",
      "601\n",
      "607\n",
      "613\n",
      "617\n",
      "619\n",
      "631\n",
      "641\n",
      "643\n",
      "647\n",
      "653\n",
      "659\n",
      "661\n",
      "673\n",
      "677\n",
      "683\n",
      "691\n",
      "701\n",
      "709\n",
      "719\n",
      "727\n",
      "733\n",
      "739\n",
      "743\n",
      "751\n",
      "757\n",
      "761\n",
      "769\n",
      "773\n",
      "787\n",
      "797\n",
      "809\n",
      "811\n",
      "821\n",
      "823\n",
      "827\n",
      "829\n",
      "839\n",
      "853\n",
      "857\n",
      "859\n",
      "863\n",
      "877\n",
      "881\n",
      "883\n",
      "887\n",
      "907\n",
      "911\n",
      "919\n",
      "929\n",
      "937\n",
      "941\n",
      "947\n",
      "953\n",
      "967\n",
      "971\n",
      "977\n",
      "983\n",
      "991\n",
      "997\n"
     ]
    }
   ],
   "source": [
    "lower_value = int(input(\"lowest value\"))\n",
    "upper_value = int(input(\"upper value\"))\n",
    "print(\"The prime numbers in the range are:\")\n",
    "for number in range (lower_value, upper_value + 1):\n",
    "    if number > 1:\n",
    "        for i in range (2 ,  number):\n",
    "            if(number % i) == 0:\n",
    "                break\n",
    "        else:\n",
    "            print(number)"
   ]
  },
  {
   "cell_type": "code",
   "execution_count": null,
   "id": "708824f6-d792-42eb-a07e-b14d11ad6851",
   "metadata": {},
   "outputs": [],
   "source": [
    "# Answer 6th :"
   ]
  },
  {
   "cell_type": "code",
   "execution_count": 15,
   "id": "c014f9d1-8733-47b4-841b-49e4392ade68",
   "metadata": {},
   "outputs": [
    {
     "name": "stdout",
     "output_type": "stream",
     "text": [
      "1\n",
      "2\n",
      "3\n",
      "4\n",
      "5\n",
      "6\n",
      "7\n",
      "8\n",
      "9\n",
      "10\n"
     ]
    }
   ],
   "source": [
    "a = 1\n",
    "while a <= 10 :\n",
    "    print(a)\n",
    "    a = a + 1"
   ]
  },
  {
   "cell_type": "code",
   "execution_count": 2,
   "id": "d71dd408-0467-46fb-b95d-6dfdba82f738",
   "metadata": {},
   "outputs": [],
   "source": [
    "# Answer 7th :"
   ]
  },
  {
   "cell_type": "code",
   "execution_count": 3,
   "id": "43b1e572-0a3f-48a2-9029-a8da4e80e901",
   "metadata": {},
   "outputs": [],
   "source": [
    "l = \"pwskills\""
   ]
  },
  {
   "cell_type": "code",
   "execution_count": 4,
   "id": "f234bd20-0fdf-4455-bde9-2fe4cfe89424",
   "metadata": {},
   "outputs": [
    {
     "data": {
      "text/plain": [
       "['P', 'W', 'S', 'K', 'I', 'L', 'L', 'S']"
      ]
     },
     "execution_count": 4,
     "metadata": {},
     "output_type": "execute_result"
    }
   ],
   "source": [
    "list(map(lambda x : x.upper(), l))"
   ]
  },
  {
   "cell_type": "code",
   "execution_count": 10,
   "id": "50a889e0-0fae-4cce-95c7-e1e66d52b70a",
   "metadata": {},
   "outputs": [],
   "source": [
    "# Ans 8th :"
   ]
  },
  {
   "cell_type": "code",
   "execution_count": 14,
   "id": "85408dd2-4e9f-4e7c-a328-1e05d4cc40d9",
   "metadata": {},
   "outputs": [
    {
     "name": "stdin",
     "output_type": "stream",
     "text": [
      "Enter a number : 25\n"
     ]
    },
    {
     "name": "stdout",
     "output_type": "stream",
     "text": [
      "not a palindrome\n"
     ]
    }
   ],
   "source": [
    "num = int(input(\"Enter a number :\"))\n",
    "temp = num\n",
    "rev = 0\n",
    "while (num > 0):\n",
    "    dig = num % 10\n",
    "    rev = rev*10 + dig\n",
    "    num = num // 10\n",
    "if (temp == rev) :\n",
    "    print(\"The number is palindrome\")\n",
    "else :\n",
    "    print(\"not a palindrome\")"
   ]
  },
  {
   "cell_type": "code",
   "execution_count": 6,
   "id": "e1fce01f-1a25-4d0b-9e67-3067d955f771",
   "metadata": {},
   "outputs": [],
   "source": [
    "# Answer 9th :"
   ]
  },
  {
   "cell_type": "code",
   "execution_count": 8,
   "id": "7f859907-df4b-4543-a9b7-95881ef0a2f7",
   "metadata": {},
   "outputs": [
    {
     "name": "stdout",
     "output_type": "stream",
     "text": [
      "1 3 5 7 9 11 13 15 17 19 21 23 25 27 29 31 33 35 37 39 41 43 45 47 49 51 53 55 57 59 61 63 65 67 69 71 73 75 77 79 81 83 85 87 89 91 93 95 97 99 "
     ]
    }
   ],
   "source": [
    "l1 = range(1 , 101)\n",
    "for numb in l1:\n",
    "    if numb % 2 != 0 :\n",
    "        print(numb,  end =\" \")"
   ]
  },
  {
   "cell_type": "code",
   "execution_count": null,
   "id": "c4b2b30b-e079-4e4f-a723-b2ba45950e27",
   "metadata": {},
   "outputs": [],
   "source": []
  }
 ],
 "metadata": {
  "kernelspec": {
   "display_name": "Python 3 (ipykernel)",
   "language": "python",
   "name": "python3"
  },
  "language_info": {
   "codemirror_mode": {
    "name": "ipython",
    "version": 3
   },
   "file_extension": ".py",
   "mimetype": "text/x-python",
   "name": "python",
   "nbconvert_exporter": "python",
   "pygments_lexer": "ipython3",
   "version": "3.10.8"
  }
 },
 "nbformat": 4,
 "nbformat_minor": 5
}
